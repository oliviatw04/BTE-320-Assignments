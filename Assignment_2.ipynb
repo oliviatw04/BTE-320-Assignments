{
  "nbformat": 4,
  "nbformat_minor": 0,
  "metadata": {
    "colab": {
      "provenance": [],
      "authorship_tag": "ABX9TyOgARqo0kLsYjNypNJyXq8M",
      "include_colab_link": true
    },
    "kernelspec": {
      "name": "python3",
      "display_name": "Python 3"
    },
    "language_info": {
      "name": "python"
    }
  },
  "cells": [
    {
      "cell_type": "markdown",
      "metadata": {
        "id": "view-in-github",
        "colab_type": "text"
      },
      "source": [
        "<a href=\"https://colab.research.google.com/github/oliviatw04/BTE-320-Assignments/blob/main/Assignment_2.ipynb\" target=\"_parent\"><img src=\"https://colab.research.google.com/assets/colab-badge.svg\" alt=\"Open In Colab\"/></a>"
      ]
    },
    {
      "cell_type": "code",
      "execution_count": 1,
      "metadata": {
        "colab": {
          "base_uri": "https://localhost:8080/"
        },
        "id": "1BuBLQ5focZZ",
        "outputId": "5edd4030-4432-4570-c26b-82ee024be5a1"
      },
      "outputs": [
        {
          "output_type": "stream",
          "name": "stdout",
          "text": [
            "Enter weight: 3\n",
            "Enter weight: 4\n",
            "Enter weight: 5\n",
            "Enter weight: 6\n",
            "Enter weight: 7\n",
            "The average weight is 6.0\n"
          ]
        }
      ],
      "source": [
        "def getValues(n):\n",
        "  L = []\n",
        "\n",
        "  for i in range(n):\n",
        "    weight = float(input(\"Enter weight: \"))\n",
        "    L.append(weight)\n",
        "\n",
        "  return L\n",
        "\n",
        "def calcAverage(alist):\n",
        "  print(f\"The average weight is {sum(alist[2:]) / len(alist[2:])}\")\n",
        "\n",
        "if __name__ == \"__main__\":\n",
        "  n = 5\n",
        "  alist = getValues(n)\n",
        "  calcAverage(alist)"
      ]
    },
    {
      "cell_type": "code",
      "source": [
        "allData = {\n",
        "    \"US\": { \"pop\": 325.7, \"gdp\": 19.39, \"ccy\": \"USD\", \"fx\": 1.0},\n",
        "    \"CA\": { \"pop\": 36.5, \"gdp\": 1.65, \"ccy\": \"USD\", \"fx\": 1.35},\n",
        "    \"MX\": { \"pop\": 192.2, \"gdp\": 1.15, \"ccy\": \"USD\", \"fx\": 19.68},\n",
        "}\n",
        "\n",
        "while True:\n",
        "  code = input(\"Enter country code(US, CA, MX): \")\n",
        "  stat = input(\"Enter statistic(pop, gdp, ccy, fx): \")\n",
        "\n",
        "  if (code not in allData) or (stat not in allData[code]):\n",
        "    print(\"Data not found...\")\n",
        "    break\n",
        "\n",
        "  step1 = allData[code]\n",
        "  out = step1[stat]\n",
        "  print(f\"{code} {stat} = {out}\")\n"
      ],
      "metadata": {
        "colab": {
          "base_uri": "https://localhost:8080/"
        },
        "id": "xtAbyG0lpej-",
        "outputId": "ef8d0cf9-1b9e-43d4-8210-e7daa81b64bf"
      },
      "execution_count": 6,
      "outputs": [
        {
          "output_type": "stream",
          "name": "stdout",
          "text": [
            "Enter country code(US, CA, MX): CA\n",
            "Enter statistic(pop, gdp, ccy, fx): fx\n",
            "CA fx = 1.35\n",
            "Enter country code(US, CA, MX): US\n",
            "Enter statistic(pop, gdp, ccy, fx): pop\n",
            "US pop = 325.7\n",
            "Enter country code(US, CA, MX): gh\n",
            "Enter statistic(pop, gdp, ccy, fx): jo\n",
            "Data not found...\n"
          ]
        }
      ]
    }
  ]
}