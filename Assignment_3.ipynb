{
  "nbformat": 4,
  "nbformat_minor": 0,
  "metadata": {
    "colab": {
      "provenance": [],
      "authorship_tag": "ABX9TyO0rZ32K1mX8jVCjrqayW7A",
      "include_colab_link": true
    },
    "kernelspec": {
      "name": "python3",
      "display_name": "Python 3"
    },
    "language_info": {
      "name": "python"
    }
  },
  "cells": [
    {
      "cell_type": "markdown",
      "metadata": {
        "id": "view-in-github",
        "colab_type": "text"
      },
      "source": [
        "<a href=\"https://colab.research.google.com/github/oliviatw04/BTE-320-Assignments/blob/main/Assignment_3.ipynb\" target=\"_parent\"><img src=\"https://colab.research.google.com/assets/colab-badge.svg\" alt=\"Open In Colab\"/></a>"
      ]
    },
    {
      "cell_type": "code",
      "execution_count": 1,
      "metadata": {
        "colab": {
          "base_uri": "https://localhost:8080/"
        },
        "id": "3km6WMnZm-dU",
        "outputId": "606b21fa-db70-4059-a397-56ab560f1ec9"
      },
      "outputs": [
        {
          "output_type": "stream",
          "name": "stdout",
          "text": [
            "Enter number of hours parked: 3\n",
            "Fee: $ 12.5\n"
          ]
        }
      ],
      "source": [
        "def calcFee(hours):\n",
        "  fee = 5 + 2.5 * hours\n",
        "  if fee < 10.0:\n",
        "    fee = 10.0\n",
        "  elif fee >= 20.0:\n",
        "    fee = 20.0\n",
        "  print(f'Fee: $ {fee}')\n",
        "\n",
        "def main():\n",
        "  numHours = int(input('Enter number of hours parked: '))\n",
        "  calcFee(numHours)\n",
        "\n",
        "main()"
      ]
    },
    {
      "cell_type": "code",
      "source": [
        "def calcFee(hours):\n",
        "  x = input(\"Hours parked: \")\n",
        "  parking_fee = 5 + x * 2.5\n",
        "  print(f\"Hours parked: {x}\")\n",
        "  if x > 0:\n",
        "    parking_fee = 2.5 * x + 5\n",
        "    print(parking_fee)\n",
        "  elif x > 10:\n",
        "    print(\"No parking fee\")\n",
        "  else:\n",
        "    print(\"No parking fee\")\n"
      ],
      "metadata": {
        "id": "ynN8G6fUnlhM"
      },
      "execution_count": 3,
      "outputs": []
    }
  ]
}