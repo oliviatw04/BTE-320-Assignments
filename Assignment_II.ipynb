{
  "nbformat": 4,
  "nbformat_minor": 0,
  "metadata": {
    "colab": {
      "provenance": [],
      "include_colab_link": true
    },
    "kernelspec": {
      "name": "python3",
      "display_name": "Python 3"
    },
    "language_info": {
      "name": "python"
    }
  },
  "cells": [
    {
      "cell_type": "markdown",
      "metadata": {
        "id": "view-in-github",
        "colab_type": "text"
      },
      "source": [
        "<a href=\"https://colab.research.google.com/github/oliviatw04/BTE-320-Assignments/blob/main/Assignment_II.ipynb\" target=\"_parent\"><img src=\"https://colab.research.google.com/assets/colab-badge.svg\" alt=\"Open In Colab\"/></a>"
      ]
    },
    {
      "cell_type": "markdown",
      "source": [
        "# Problem Set 2"
      ],
      "metadata": {
        "id": "mqKVIuY-mxNU"
      }
    },
    {
      "cell_type": "markdown",
      "source": [
        "## Assignment 1: Quality Control (7 points)\n",
        "\n",
        "A quality control manager would like to find the average weight of a list of weights. Prior experience indicates that the first two measures are atypical, and the practice is to exclude these from the average calculation.\n",
        "\n",
        "Write a program that calculates the average of a list of numbers that given as inputs from the user, excluding the first two values.\n",
        "\n",
        "For your program, you must define and use the following functions:\n",
        "- `getValues(n)`: Prompt the user for `n` values, returns the list\n",
        "- `calcAverage(alist)`: Calculates the average from the list"
      ],
      "metadata": {
        "id": "-RSYW1jVm08n"
      }
    },
    {
      "cell_type": "code",
      "execution_count": null,
      "metadata": {
        "id": "AqbgJkgNmvQw"
      },
      "outputs": [],
      "source": []
    },
    {
      "cell_type": "markdown",
      "source": [
        "## Assignment 2: Country Statistics Lookup-Multiple Measures (6 points)\n",
        "\n",
        "Assume a program begins with the statement:\n",
        "\n",
        "```python\n",
        "allData = { # dictionary of values for countries\n",
        "    'US': {'pop':325.7, 'gdp': 19.39, 'ccy': 'USD', 'fx':  1.0},\n",
        "    'CA': {'pop': 36.5, 'gdp':  1.65, 'ccy': 'CAD', 'fx':  1.35},\n",
        "    'MX': {'pop':129.2, 'gdp':  1.15, 'ccy': 'MXN', 'fx': 19.68}\n",
        "    }\n",
        "```\n",
        "\n",
        "Write subsequent statements that (in a loop) prompt the user for a country code (`US`, `CA`, or `MX`), then prompt for a measure name (`pop`, `gdp`, `ccy`, or `fx`), then look up in the above dictionary for the corresponding value, and display it.\n",
        "\n",
        "Example run:\n",
        "```\n",
        "Please enter a country code: CA\n",
        "Please enter a statistic: pop\n",
        "CA pop = 36.5\n",
        "```\n",
        "\n",
        "Your program should handle the cases where a user-entered country code or measure name is not found."
      ],
      "metadata": {
        "id": "QFO0Kzx8ncnv"
      }
    },
    {
      "cell_type": "code",
      "source": [],
      "metadata": {
        "id": "NZFjRINKowEW"
      },
      "execution_count": null,
      "outputs": []
    },
    {
      "cell_type": "markdown",
      "source": [
        "## Assignment 3: Parking Garage (6 points)\n",
        "\n",
        "Write a program to compute the fee for parking in a garage for a number of hours.\n",
        "\n",
        "The program should:\n",
        "- Prompt the user for how many hours parked\n",
        "- Calculate the fee based on the following rules:\n",
        "  - $2.50/hour\n",
        "\n",
        "  - minimum fee is $6.00\n",
        "\n",
        "  - maximum fee is $20.00\n",
        "- Print the result\n",
        "\n",
        "For your program, define and use the following two functions:\n",
        "```python\n",
        "# use input() to prompt for the # of hours parked, return this value\n",
        "def getParkingHours()\n",
        "\n",
        "# takes as input hours (a number), returns the parking fee\n",
        "def calcParkingFee()\n",
        "```"
      ],
      "metadata": {
        "id": "GjaUFrnfpKFf"
      }
    },
    {
      "cell_type": "code",
      "source": [],
      "metadata": {
        "id": "5ha4O3V5pwNN"
      },
      "execution_count": null,
      "outputs": []
    },
    {
      "cell_type": "markdown",
      "source": [
        "## Assignment 4: Tuition (6 points)\n",
        "\n",
        "A college charges tuition according to the following:\n",
        "- 12 or more credits: $20,000/semester\n",
        "\n",
        "- 1-11 credits: $1,200 + $1,700 per credit\n",
        "\n",
        "Write a program that prompts the user for a number of credits and determines and displays the tuition for the semester. As part of your program, define and use the following function:\n",
        "```python\n",
        "def calcTuition(credits)\n",
        "```\n",
        "The function returns the tuition for a given number of credits"
      ],
      "metadata": {
        "id": "gipBObe5qm-2"
      }
    },
    {
      "cell_type": "code",
      "source": [
        "def getValues(n):\n",
        "  L = []\n",
        "\n",
        "  for i in range(n):\n",
        "    weight = float(input(\"Enter weight: \"))\n",
        "    L.append(weight)\n",
        "\n",
        "  return L\n",
        "\n",
        "def calcAverage(alist):\n",
        "  print(f\"The average weight is {sum(alist[2:]) / len(alist[2:])}\")\n",
        "\n",
        "if __name__ == \"__main__\":\n",
        "  n = 5\n",
        "  alist = getValues(n)\n",
        "  calcAverage(alist)"
      ],
      "metadata": {
        "id": "BPcn9ywzrL8y",
        "colab": {
          "base_uri": "https://localhost:8080/"
        },
        "outputId": "f5edf837-5786-4194-ebca-4ec49f099c25"
      },
      "execution_count": 1,
      "outputs": [
        {
          "output_type": "stream",
          "name": "stdout",
          "text": [
            "Enter weight: 5\n",
            "Enter weight: 4\n",
            "Enter weight: 3\n",
            "Enter weight: 2\n",
            "Enter weight: 1\n",
            "The average weight is 2.0\n"
          ]
        }
      ]
    },
    {
      "cell_type": "code",
      "source": [
        "allData = {\n",
        "    \"US\": { \"pop\": 325.7, \"gdp\": 19.39, \"ccy\": \"USD\", \"fx\": 1.0},\n",
        "    \"CA\": { \"pop\": 36.5, \"gdp\": 1.65, \"ccy\": \"USD\", \"fx\": 1.35},\n",
        "    \"MX\": { \"pop\": 192.2, \"gdp\": 1.15, \"ccy\": \"USD\", \"fx\": 19.68},\n",
        "}\n",
        "\n",
        "while True:\n",
        "  code = input(\"Enter country code(US, CA, MX): \")\n",
        "  stat = input(\"Enter statistic(pop, gdp, ccy, fx): \")\n",
        "\n",
        "  if (code not in allData) or (stat not in allData[code]):\n",
        "    print(\"Data not found...\")\n",
        "    break\n",
        "\n",
        "  step1 = allData[code]\n",
        "  out = step1[stat]\n",
        "  print(f\"{code} {stat} = {out}\")"
      ],
      "metadata": {
        "colab": {
          "base_uri": "https://localhost:8080/"
        },
        "id": "GbC85v0l-eay",
        "outputId": "1780e605-cf15-4f7a-8d5d-d6ba44f1486b"
      },
      "execution_count": 2,
      "outputs": [
        {
          "output_type": "stream",
          "name": "stdout",
          "text": [
            "Enter country code(US, CA, MX): CA\n",
            "Enter statistic(pop, gdp, ccy, fx): gdp\n",
            "CA gdp = 1.65\n",
            "Enter country code(US, CA, MX): MX\n",
            "Enter statistic(pop, gdp, ccy, fx): ccy\n",
            "MX ccy = USD\n",
            "Enter country code(US, CA, MX): US\n",
            "Enter statistic(pop, gdp, ccy, fx): pop\n",
            "US pop = 325.7\n",
            "Enter country code(US, CA, MX): EU\n",
            "Enter statistic(pop, gdp, ccy, fx): fx\n",
            "Data not found...\n"
          ]
        }
      ]
    },
    {
      "cell_type": "code",
      "source": [
        "def getParkingHours():\n",
        "    hours = float(input(\"Enter number of hours parked: \"))\n",
        "    return hours\n",
        "\n",
        "def calcParkingFee(hours):\n",
        "    fee_per_hour = 2.50\n",
        "    minimum_fee = 6.00\n",
        "    maximum_fee = 20.00\n",
        "\n",
        "    fee = hours * fee_per_hour\n",
        "    if fee < minimum_fee:\n",
        "        fee = minimum_fee\n",
        "    elif fee > maximum_fee:\n",
        "        fee = maximum_fee\n",
        "\n",
        "    return fee\n",
        "hours = getParkingHours()\n",
        "fee = calcParkingFee(hours)\n",
        "print(f\"The parking fee is ${fee}\")"
      ],
      "metadata": {
        "colab": {
          "base_uri": "https://localhost:8080/"
        },
        "id": "yTAgZOkmjOVW",
        "outputId": "c0fe92cf-5ab9-483b-820b-8d5c3c07e84a"
      },
      "execution_count": 7,
      "outputs": [
        {
          "output_type": "stream",
          "name": "stdout",
          "text": [
            "Enter number of hours parked: 10\n",
            "The parking fee is $20.0\n"
          ]
        }
      ]
    },
    {
      "cell_type": "code",
      "source": [
        "def calcTuition(credits):\n",
        "    if credits >= 12:\n",
        "        return 20000\n",
        "    elif credits >= 1:\n",
        "        return 1200 + (credits * 1700)\n",
        "    else:\n",
        "        return 0\n",
        "\n",
        "credits = int(input(\"Enter the number of credits: \"))\n",
        "tuition = calcTuition(credits)\n",
        "print(f\"The tuition for {credits} credit(s) is: ${tuition}\")"
      ],
      "metadata": {
        "colab": {
          "base_uri": "https://localhost:8080/"
        },
        "id": "LGqbTZ2BkMma",
        "outputId": "b006bbdc-2bd9-4195-f65f-1c01bba7cf63"
      },
      "execution_count": 8,
      "outputs": [
        {
          "output_type": "stream",
          "name": "stdout",
          "text": [
            "Enter the number of credits: 5\n",
            "The tuition for 5 credit(s) is: $9700\n"
          ]
        }
      ]
    }
  ]
}