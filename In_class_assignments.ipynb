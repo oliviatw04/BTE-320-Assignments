{
  "nbformat": 4,
  "nbformat_minor": 0,
  "metadata": {
    "colab": {
      "provenance": [],
      "authorship_tag": "ABX9TyMxqcc2IkfGzBMHinMmepJn",
      "include_colab_link": true
    },
    "kernelspec": {
      "name": "python3",
      "display_name": "Python 3"
    },
    "language_info": {
      "name": "python"
    }
  },
  "cells": [
    {
      "cell_type": "markdown",
      "metadata": {
        "id": "view-in-github",
        "colab_type": "text"
      },
      "source": [
        "<a href=\"https://colab.research.google.com/github/oliviatw04/BTE-320-Assignments/blob/main/In_class_assignments.ipynb\" target=\"_parent\"><img src=\"https://colab.research.google.com/assets/colab-badge.svg\" alt=\"Open In Colab\"/></a>"
      ]
    },
    {
      "cell_type": "code",
      "execution_count": null,
      "metadata": {
        "colab": {
          "base_uri": "https://localhost:8080/"
        },
        "id": "1MLMgYTYBKFg",
        "outputId": "bb987f4c-12c4-4d44-fa9f-6af7cf7f0049"
      },
      "outputs": [
        {
          "output_type": "stream",
          "name": "stdout",
          "text": [
            "Please provide the radius: 5\n",
            "Please provide the height: 6\n",
            "Area of a cylinder: 345.4 sq. ft\n"
          ]
        }
      ],
      "source": [
        "pi = 3.14\n",
        "radius = float(input(\"Please provide the radius: \"))\n",
        "height = float(input(\"Please provide the height: \"))\n",
        "\n",
        "area = 2 * pi * radius ** 2 + 2 * pi * radius * height\n",
        "\n",
        "print(f\"Area of a cylinder: {area} sq. ft\")\n"
      ]
    },
    {
      "cell_type": "code",
      "source": [
        "number_1 = input(\"Please enter a number: \")\n",
        "number_2 = input(\"Please enter another number: \")\n",
        "symbol = input(\"Please enter a symbol: \")\n",
        "if symbol == \"+\":\n",
        "    print(int(number_1) + int(number_2))\n",
        "elif symbol == \"-\":\n",
        "    print(int(number_1) - int(number_2))\n",
        "elif symbol == \"*\":\n",
        "    print(int(number_1) * int(number_2))\n",
        "elif symbol == \"/\":\n",
        "    print(int(number_1) / int(number_2))\n",
        "elif symbol == \"//\":\n",
        "    print(int(number_1) % int(number_2))\n",
        "elif symbol == \"**\":\n",
        "    print(int(number_1) ** int(number_2))\n",
        "elif symbol == \"%\":\n",
        "    print(int(number_1) % int(number_2))\n",
        "else: print(\"Invalid Input\")"
      ],
      "metadata": {
        "colab": {
          "base_uri": "https://localhost:8080/"
        },
        "id": "c61kELGTsCau",
        "outputId": "a281a99c-bac2-417c-bef0-7ab1f2160384"
      },
      "execution_count": null,
      "outputs": [
        {
          "output_type": "stream",
          "name": "stdout",
          "text": [
            "Please enter a number: 6\n",
            "Please enter another number: 6\n",
            "Please enter a symbol: +\n",
            "12\n"
          ]
        }
      ]
    },
    {
      "cell_type": "code",
      "source": [
        "for numberHours in range(1,9):\n",
        "  fee = 5 + 2.5 * numberHours\n",
        "  if fee < 10:\n",
        "    fee = 10\n",
        "  elif fee > 20:\n",
        "    fee = 20.0\n",
        "  print(numberHours, fee)"
      ],
      "metadata": {
        "colab": {
          "base_uri": "https://localhost:8080/"
        },
        "id": "lKBjWb7QbZIZ",
        "outputId": "e8dbabbe-7674-4d7a-8746-879d5dfb8fa7"
      },
      "execution_count": null,
      "outputs": [
        {
          "output_type": "stream",
          "name": "stdout",
          "text": [
            "1 10\n",
            "2 10.0\n",
            "3 12.5\n",
            "4 15.0\n",
            "5 17.5\n",
            "6 20.0\n",
            "7 20.0\n",
            "8 20.0\n"
          ]
        }
      ]
    },
    {
      "cell_type": "code",
      "source": [
        "for adMoney in range(0, 201, 25):\n",
        "  revenue = (20 + 2 * round(adMoney ** 0.5)) * 10\n",
        "  cost = 200 + adMoney\n",
        "  profit = revenue - cost\n",
        "  print(adMoney, profit)"
      ],
      "metadata": {
        "colab": {
          "base_uri": "https://localhost:8080/"
        },
        "id": "RL-hT2FudD4l",
        "outputId": "534462f4-7672-4951-b79d-09214a7bb88b"
      },
      "execution_count": null,
      "outputs": [
        {
          "output_type": "stream",
          "name": "stdout",
          "text": [
            "0 0\n",
            "25 75\n",
            "50 90\n",
            "75 105\n",
            "100 100\n",
            "125 95\n",
            "150 90\n",
            "175 85\n",
            "200 80\n"
          ]
        }
      ]
    },
    {
      "cell_type": "code",
      "source": [
        "for adMoney in range(0,201,25):\n",
        "  revenue = (20 + 2 * round((adMoney)** 0.5 ))*10\n",
        "  costs = 200 + adMoney\n",
        "  profit = revenue - costs\n",
        "  print(adMoney, profit)"
      ],
      "metadata": {
        "colab": {
          "base_uri": "https://localhost:8080/"
        },
        "id": "Czh9YckMHWMx",
        "outputId": "18ccb799-a34b-40fb-cf1a-3c4e5eae767d"
      },
      "execution_count": null,
      "outputs": [
        {
          "output_type": "stream",
          "name": "stdout",
          "text": [
            "0 0\n",
            "25 75\n",
            "50 90\n",
            "75 105\n",
            "100 100\n",
            "125 95\n",
            "150 90\n",
            "175 85\n",
            "200 80\n"
          ]
        }
      ]
    },
    {
      "cell_type": "code",
      "source": [
        "import random\n",
        "\n",
        "play = input(\"Do you want to play a game (yes/no)?\").capitalize()\n",
        "\n",
        "while play == \"Yes\":\n",
        "  p1 = input(\"Player 1 - Choose between rock, paper, or scissors:\").capitalize()\n",
        "  p2 = random.choice([\"rock\", \"paper\", \"scissors\"]).capitalize()\n",
        "\n",
        "  print(f\"Player chose{p1}; Computer chose{p2}\")\n",
        "\n",
        "  if p1 == p2:\n",
        "    print(\"Tie\")\n",
        "  elif (p1 == \"Rock\" and p2 == \"Scissors\") or (p1 == \"Scissors\" and p2 == \"Paper\") or (p1 == \"Paper\" and p2 == \"Rock\"):\n",
        "    print (\"Player wins!\")\n",
        "  else:\n",
        "    print (\"Computer wins!\")\n",
        "\n",
        "  play = input(\"Do you want to play another game (yes/no)?\").capitalize()\n",
        "print (\"Have a good day!\")"
      ],
      "metadata": {
        "colab": {
          "base_uri": "https://localhost:8080/"
        },
        "id": "Ve-yCTjqNHWt",
        "outputId": "f70ee540-896d-4dc2-ec86-49f524b1b09a"
      },
      "execution_count": null,
      "outputs": [
        {
          "output_type": "stream",
          "name": "stdout",
          "text": [
            "Do you want to play a game (yes/no)?yes\n",
            "Player 1 - Choose between rock, paper, or scissors:rock\n",
            "Player choseRock; Computer chosePaper\n",
            "Computer wins!\n",
            "Do you want to play another game (yes/no)?no\n",
            "Have a good day!\n"
          ]
        }
      ]
    },
    {
      "cell_type": "code",
      "source": [
        "lst = []\n",
        "\n",
        "num = float(input('Give a number:'))\n",
        "\n",
        "while num != 0.0:\n",
        "  lst.append(num)\n",
        "  num = float(input('Give a number:'))\n",
        "lst.sort(reverse=True)\n",
        "print(lst)"
      ],
      "metadata": {
        "colab": {
          "base_uri": "https://localhost:8080/"
        },
        "id": "sFhbmd1bO_df",
        "outputId": "83821df9-001c-4461-c431-01024bba5c81"
      },
      "execution_count": null,
      "outputs": [
        {
          "output_type": "stream",
          "name": "stdout",
          "text": [
            "Give a number:5\n",
            "Give a number:4\n",
            "Give a number:3\n",
            "Give a number:2\n",
            "Give a number:0\n",
            "[5.0, 4.0, 3.0, 2.0]\n"
          ]
        }
      ]
    },
    {
      "cell_type": "code",
      "source": [
        "lst = []\n",
        "\n",
        "while True:\n",
        "  num = float(input('Give a number:'))\n",
        "  if num == 0.0:\n",
        "    break\n",
        "  lst.append(num)\n",
        "lst.sort(reverse=True)\n",
        "print(lst)\n"
      ],
      "metadata": {
        "colab": {
          "base_uri": "https://localhost:8080/"
        },
        "id": "dQGgScz2TZ-a",
        "outputId": "ac2907fd-7e8a-4ed3-d1b6-6a6b063a22a2"
      },
      "execution_count": null,
      "outputs": [
        {
          "output_type": "stream",
          "name": "stdout",
          "text": [
            "Give a number:5\n",
            "Give a number:4\n",
            "Give a number:3\n",
            "Give a number:2\n",
            "Give a number:1\n",
            "Give a number:0\n",
            "[5.0, 4.0, 3.0, 2.0, 1.0]\n"
          ]
        }
      ]
    },
    {
      "cell_type": "code",
      "source": [
        "months = {}\n",
        "\n",
        "names = [\"January\", \"February\", \"March\", \"April\", \"May\", \"June\", \"July\", \"August\", \"September\", \"October\", \"November\", \"December\"]\n",
        "numbers = [1,2,3,4,5,6,7,8,9,10,11,12]\n",
        "\n",
        "for num in numbers:\n",
        "  months[num] = names[num-1]\n",
        "print(months)"
      ],
      "metadata": {
        "colab": {
          "base_uri": "https://localhost:8080/"
        },
        "id": "7RUg0cKZxjq4",
        "outputId": "8e8d3525-5385-43a9-c5bb-8acf8ec49f74"
      },
      "execution_count": null,
      "outputs": [
        {
          "output_type": "stream",
          "name": "stdout",
          "text": [
            "{1: 'January', 2: 'February', 3: 'March', 4: 'April', 5: 'May', 6: 'June', 7: 'July', 8: 'August', 9: 'September', 10: 'October', 11: 'November', 12: 'December'}\n"
          ]
        }
      ]
    },
    {
      "cell_type": "code",
      "source": [
        "counts = {}\n",
        "\n",
        "while len(counts) < 5:\n",
        "  key = input(\"Give a string: \")\n",
        "\n",
        "  if key not in counts:\n",
        "    counts[key] = 1\n",
        "  else:\n",
        "    counts[key] += 1\n",
        "counts"
      ],
      "metadata": {
        "colab": {
          "base_uri": "https://localhost:8080/"
        },
        "id": "7a8Qn9urzNqH",
        "outputId": "1696ccc5-1d84-4073-99d1-84abd5847cf2"
      },
      "execution_count": null,
      "outputs": [
        {
          "name": "stdout",
          "output_type": "stream",
          "text": [
            "Give a string: a\n",
            "Give a string: a\n",
            "Give a string: b\n",
            "Give a string: b\n",
            "Give a string: c\n",
            "Give a string: d\n",
            "Give a string: s\n"
          ]
        },
        {
          "output_type": "execute_result",
          "data": {
            "text/plain": [
              "{'a': 2, 'b': 2, 'c': 1, 'd': 1, 's': 1}"
            ]
          },
          "metadata": {},
          "execution_count": 22
        }
      ]
    },
    {
      "cell_type": "code",
      "source": [
        "def calcFee(hours):\n",
        "  fee = 5 + 2.5 * numberHours\n",
        "  if fee < 10:\n",
        "    fee = 10\n",
        "  elif fee >= 20:\n",
        "    fee = 20.0\n",
        "  print(f'Fee: {fee}$')\n",
        "\n",
        "print(\"Program Starts...\")\n",
        "numHours = int(input(\"Enter number of hours \"))\n",
        "calcFee(numHours)\n",
        "\n",
        "if__name__ == \"__main__\":\n",
        "  main()"
      ],
      "metadata": {
        "colab": {
          "base_uri": "https://localhost:8080/"
        },
        "id": "fla6IaCKU0Fr",
        "outputId": "a0f62316-7468-42a0-a822-1caab6164e77"
      },
      "execution_count": null,
      "outputs": [
        {
          "output_type": "stream",
          "name": "stdout",
          "text": [
            "Program Starts...\n",
            "Enter number of hours 7\n",
            "Fee: 15.0$\n"
          ]
        }
      ]
    },
    {
      "cell_type": "code",
      "source": [
        "def reverse(s):\n",
        "  if len(s) <= 1:\n",
        "    return s\n",
        "  else:\n",
        "    #return s[-1] + reverse(s[:-1])\n",
        "    return s[-1] + reverse(s[1:-1])+ s[0]\n",
        "    #return reverse(s[1:]) + s[0]\n",
        "\n",
        "reverse('Hello')"
      ],
      "metadata": {
        "colab": {
          "base_uri": "https://localhost:8080/",
          "height": 35
        },
        "id": "CRpzq2zL4Txv",
        "outputId": "70787a52-d2a7-43e7-ae6f-17bca768d9f0"
      },
      "execution_count": null,
      "outputs": [
        {
          "output_type": "execute_result",
          "data": {
            "text/plain": [
              "'olleH'"
            ],
            "application/vnd.google.colaboratory.intrinsic+json": {
              "type": "string"
            }
          },
          "metadata": {},
          "execution_count": 1
        }
      ]
    },
    {
      "cell_type": "code",
      "source": [
        "def getValues(n):\n",
        "  assert n >= 3, \"...\"\n",
        "  L = []\n",
        "\n",
        "  for i in range(n):\n",
        "    weight = float(input(\"Enter weight:\"))\n",
        "    L.append(weight)\n",
        "  return L\n",
        "\n",
        "def calcAverage(alist):\n",
        "  try:\n",
        "    print(f\"the average weight is {sum(alist[2:]) / len(alist[2:])}\")\n",
        "  except ZeroDivisionError:\n",
        "    print(\"List alist is empty! \")\n",
        "\n",
        "if __name__ == \"__main__\":\n",
        "  try:\n",
        "    n = int(input(\"Enter size of list: \"))\n",
        "    alist = getValues(n)\n",
        "    calcAverage(alist)\n",
        "  except ValueError:\n",
        "    print(\"Cannot be casted as int()\")"
      ],
      "metadata": {
        "colab": {
          "base_uri": "https://localhost:8080/",
          "height": 358
        },
        "id": "RaLDfTA9f0lx",
        "outputId": "6dfbfc6d-e352-40dd-84a1-5fe4d8d478c5"
      },
      "execution_count": 8,
      "outputs": [
        {
          "name": "stdout",
          "output_type": "stream",
          "text": [
            "Enter size of list: 0\n"
          ]
        },
        {
          "output_type": "error",
          "ename": "AssertionError",
          "evalue": "...",
          "traceback": [
            "\u001b[0;31m---------------------------------------------------------------------------\u001b[0m",
            "\u001b[0;31mAssertionError\u001b[0m                            Traceback (most recent call last)",
            "\u001b[0;32m<ipython-input-8-86999550345e>\u001b[0m in \u001b[0;36m<cell line: 0>\u001b[0;34m()\u001b[0m\n\u001b[1;32m     17\u001b[0m   \u001b[0;32mtry\u001b[0m\u001b[0;34m:\u001b[0m\u001b[0;34m\u001b[0m\u001b[0;34m\u001b[0m\u001b[0m\n\u001b[1;32m     18\u001b[0m     \u001b[0mn\u001b[0m \u001b[0;34m=\u001b[0m \u001b[0mint\u001b[0m\u001b[0;34m(\u001b[0m\u001b[0minput\u001b[0m\u001b[0;34m(\u001b[0m\u001b[0;34m\"Enter size of list: \"\u001b[0m\u001b[0;34m)\u001b[0m\u001b[0;34m)\u001b[0m\u001b[0;34m\u001b[0m\u001b[0;34m\u001b[0m\u001b[0m\n\u001b[0;32m---> 19\u001b[0;31m     \u001b[0malist\u001b[0m \u001b[0;34m=\u001b[0m \u001b[0mgetValues\u001b[0m\u001b[0;34m(\u001b[0m\u001b[0mn\u001b[0m\u001b[0;34m)\u001b[0m\u001b[0;34m\u001b[0m\u001b[0;34m\u001b[0m\u001b[0m\n\u001b[0m\u001b[1;32m     20\u001b[0m     \u001b[0mcalcAverage\u001b[0m\u001b[0;34m(\u001b[0m\u001b[0malist\u001b[0m\u001b[0;34m)\u001b[0m\u001b[0;34m\u001b[0m\u001b[0;34m\u001b[0m\u001b[0m\n\u001b[1;32m     21\u001b[0m   \u001b[0;32mexcept\u001b[0m \u001b[0mValueError\u001b[0m\u001b[0;34m:\u001b[0m\u001b[0;34m\u001b[0m\u001b[0;34m\u001b[0m\u001b[0m\n",
            "\u001b[0;32m<ipython-input-8-86999550345e>\u001b[0m in \u001b[0;36mgetValues\u001b[0;34m(n)\u001b[0m\n\u001b[1;32m      1\u001b[0m \u001b[0;32mdef\u001b[0m \u001b[0mgetValues\u001b[0m\u001b[0;34m(\u001b[0m\u001b[0mn\u001b[0m\u001b[0;34m)\u001b[0m\u001b[0;34m:\u001b[0m\u001b[0;34m\u001b[0m\u001b[0;34m\u001b[0m\u001b[0m\n\u001b[0;32m----> 2\u001b[0;31m   \u001b[0;32massert\u001b[0m \u001b[0mn\u001b[0m \u001b[0;34m>=\u001b[0m \u001b[0;36m3\u001b[0m\u001b[0;34m,\u001b[0m \u001b[0;34m\"...\"\u001b[0m\u001b[0;34m\u001b[0m\u001b[0;34m\u001b[0m\u001b[0m\n\u001b[0m\u001b[1;32m      3\u001b[0m   \u001b[0mL\u001b[0m \u001b[0;34m=\u001b[0m \u001b[0;34m[\u001b[0m\u001b[0;34m]\u001b[0m\u001b[0;34m\u001b[0m\u001b[0;34m\u001b[0m\u001b[0m\n\u001b[1;32m      4\u001b[0m \u001b[0;34m\u001b[0m\u001b[0m\n\u001b[1;32m      5\u001b[0m   \u001b[0;32mfor\u001b[0m \u001b[0mi\u001b[0m \u001b[0;32min\u001b[0m \u001b[0mrange\u001b[0m\u001b[0;34m(\u001b[0m\u001b[0mn\u001b[0m\u001b[0;34m)\u001b[0m\u001b[0;34m:\u001b[0m\u001b[0;34m\u001b[0m\u001b[0;34m\u001b[0m\u001b[0m\n",
            "\u001b[0;31mAssertionError\u001b[0m: ..."
          ]
        }
      ]
    },
    {
      "cell_type": "code",
      "source": [
        "class Greeting:\n",
        "  def __init__(self, first, last):\n",
        "    self.first = first\n",
        "    self.last = last\n",
        "\n",
        "  def display(self, formal=False):\n",
        "    if formal:\n",
        "      print(f\"Hello {self.first} {self.last}\")\n",
        "    else:\n",
        "      print(f\"Hi {self.first}\")\n",
        "\n",
        "  def __str__(self):\n",
        "    return str(self.first) + \", \" + str(self.last)\n",
        "    return \"{}, {}\".format(self.first, self.last)\n",
        "    return f\"{self.first}, {self.last}\"\n",
        "\n",
        "greeting = Greeting(\"Donald\", \"Becker\")\n",
        "other_greeting = Greeting(\"Bob\", \"Dylan\")\n",
        "greeting.display()\n",
        "print(greeting)\n",
        "print(other_greeting)"
      ],
      "metadata": {
        "colab": {
          "base_uri": "https://localhost:8080/"
        },
        "id": "T4zU_HDvYCWy",
        "outputId": "2b2c142f-734d-4908-a06b-04af06d99f3a"
      },
      "execution_count": null,
      "outputs": [
        {
          "output_type": "stream",
          "name": "stdout",
          "text": [
            "Hi Donald\n",
            "Donald, Becker\n",
            "Bob, Dylan\n"
          ]
        }
      ]
    },
    {
      "cell_type": "code",
      "source": [
        "class Student:\n",
        "  def __init__(self, first, number,):\n",
        "    self.name = first\n",
        "    self.__number = number\n",
        "    self.__courses = []\n",
        "\n",
        "  def __len__(self):\n",
        "    return len(self.__courses)\n",
        "\n",
        "  def enroll(self, course):\n",
        "    if course in self.__courses:\n",
        "      print(f\"You have already already enrolled in {course}\")\n",
        "    else:\n",
        "      self.__courses.append(course)\n",
        "\n",
        "  def get_course(self):\n",
        "    return self.__courses\n",
        "\n",
        "  def get_number(self): # getter method for number attribute\n",
        "    return self.__number\n",
        "\n",
        "  def set_number(self, newnumber): # setter method for number attribute\n",
        "    self.__number = newnumber\n",
        "\n",
        "s1 = Student(\"Bob\", 100)\n",
        "s2 = Student(\"Alice\", 101)\n",
        "s1.name, s2.name\n",
        ""
      ],
      "metadata": {
        "colab": {
          "base_uri": "https://localhost:8080/"
        },
        "id": "hLjRHoUL5lX2",
        "outputId": "8e1fe8ac-5c0a-43a7-e500-60e893e75ddb"
      },
      "execution_count": 2,
      "outputs": [
        {
          "output_type": "execute_result",
          "data": {
            "text/plain": [
              "('Bob', 'Alice')"
            ]
          },
          "metadata": {},
          "execution_count": 2
        }
      ]
    },
    {
      "cell_type": "code",
      "source": [
        "s1.enroll(\"BTE320\")"
      ],
      "metadata": {
        "id": "yxqr6jWg8Rwo"
      },
      "execution_count": null,
      "outputs": []
    },
    {
      "cell_type": "code",
      "source": [
        "s1.get_course()"
      ],
      "metadata": {
        "colab": {
          "base_uri": "https://localhost:8080/"
        },
        "id": "ZSIo918NAx1X",
        "outputId": "b790828b-5679-4418-f910-51bca186e10d"
      },
      "execution_count": null,
      "outputs": [
        {
          "output_type": "execute_result",
          "data": {
            "text/plain": [
              "['BTE320']"
            ]
          },
          "metadata": {},
          "execution_count": 12
        }
      ]
    },
    {
      "cell_type": "code",
      "source": [
        "s1.enroll(\"BTE422\")"
      ],
      "metadata": {
        "id": "2CJ98XFiBFBl"
      },
      "execution_count": null,
      "outputs": []
    },
    {
      "cell_type": "code",
      "source": [
        "s1.get_course()"
      ],
      "metadata": {
        "colab": {
          "base_uri": "https://localhost:8080/"
        },
        "id": "2iBtnU8dBIzZ",
        "outputId": "0d0b30d6-a054-4e69-9bec-18abac86475e"
      },
      "execution_count": null,
      "outputs": [
        {
          "output_type": "execute_result",
          "data": {
            "text/plain": [
              "['BTE320', 'BTE422']"
            ]
          },
          "metadata": {},
          "execution_count": 14
        }
      ]
    },
    {
      "cell_type": "code",
      "source": [
        "class Dummy:\n",
        "  def __init__(self, a):\n",
        "    self.a = a\n",
        "\n",
        "  def __add__(self, other):\n",
        "    return self.a + other.a\n",
        "\n",
        "  def __mul__(self, other):\n",
        "    return self.a * other.a\n",
        "\n",
        "x = Dummy(3)\n",
        "y = Dummy(4)"
      ],
      "metadata": {
        "id": "Fze0OsNIBkzZ"
      },
      "execution_count": null,
      "outputs": []
    },
    {
      "cell_type": "code",
      "source": [
        "Dummy.__add__(x,y)"
      ],
      "metadata": {
        "id": "tMrlGk7eCZ4Q",
        "outputId": "e7d91029-b07b-42a1-920d-234be0722bbc",
        "colab": {
          "base_uri": "https://localhost:8080/"
        }
      },
      "execution_count": null,
      "outputs": [
        {
          "output_type": "execute_result",
          "data": {
            "text/plain": [
              "7"
            ]
          },
          "metadata": {},
          "execution_count": 3
        }
      ]
    },
    {
      "cell_type": "code",
      "source": [
        "import math\n",
        "\n",
        "class Point:\n",
        "  def __init__(self, x, y):\n",
        "    self.x = x\n",
        "    self.y = y\n",
        "\n",
        "  def distance(self, other):\n",
        "    return math.sqrt((self.x - other.x) ** 2 + (self.y - other.y) ** 2)"
      ],
      "metadata": {
        "id": "yAOQRlUac1Ey"
      },
      "execution_count": null,
      "outputs": []
    },
    {
      "cell_type": "code",
      "source": [
        "class Rectangle:\n",
        "  def __init__(self):\n",
        "    self.c1 = Point(0,0)\n",
        "    self.c2 = Point(0,2)\n",
        "    self.c3 = Point(2,0)\n",
        "    self.c4 = Point(2,2)\n",
        "    self.width = self.calculate_width()\n",
        "    self.length = self.calculate_length()\n",
        "\n",
        "  def calculate_width(self):\n",
        "    return self.c1.distance(self.c2)\n",
        "\n",
        "  def calculate_length(self):\n",
        "    return self.c1.distance(self.c3)\n",
        "\n",
        "  def area(self):\n",
        "    return f\"Area = {self.width * self.length} sq. ft.\"\n",
        "\n",
        "square = Rectangle()\n",
        "square.area()"
      ],
      "metadata": {
        "id": "PvpH2H3ifA_m",
        "colab": {
          "base_uri": "https://localhost:8080/",
          "height": 35
        },
        "outputId": "58af5ee5-0bd0-465f-de07-bc237c689b7a"
      },
      "execution_count": null,
      "outputs": [
        {
          "output_type": "execute_result",
          "data": {
            "text/plain": [
              "'Area = 4.0 sq. ft.'"
            ],
            "application/vnd.google.colaboratory.intrinsic+json": {
              "type": "string"
            }
          },
          "metadata": {},
          "execution_count": 14
        }
      ]
    },
    {
      "cell_type": "code",
      "source": [
        "# parent class. (a.k.a super-class)\n",
        "class Car:\n",
        "  def __init__(self, make, year):\n",
        "    self.__make = make\n",
        "    self.__year = year\n",
        "\n",
        "  def get_make(self):\n",
        "    return self.__make\n",
        "\n",
        "  def get_year(self, newMake):\n",
        "    self.__make = newMake\n",
        "\n",
        "#child class (a.k.a sub-class)\n",
        "class SUV(Car):\n",
        "  def activateAWD(self):\n",
        "    print(\"AWD activated.\")"
      ],
      "metadata": {
        "id": "IKF7bzo4w_VH"
      },
      "execution_count": 4,
      "outputs": []
    },
    {
      "cell_type": "code",
      "source": [
        "c = Car(\"Ford\", 2024)\n",
        "s = SUV(\"GMC\", 2021)"
      ],
      "metadata": {
        "id": "TGAyXnMnylRb"
      },
      "execution_count": 5,
      "outputs": []
    },
    {
      "cell_type": "code",
      "source": [
        "c.get_make()"
      ],
      "metadata": {
        "colab": {
          "base_uri": "https://localhost:8080/",
          "height": 35
        },
        "id": "OtiwaNWBy0As",
        "outputId": "47d1e56c-5e5a-465a-e735-bee5ddd38166"
      },
      "execution_count": null,
      "outputs": [
        {
          "output_type": "execute_result",
          "data": {
            "text/plain": [
              "'Ford'"
            ],
            "application/vnd.google.colaboratory.intrinsic+json": {
              "type": "string"
            }
          },
          "metadata": {},
          "execution_count": 5
        }
      ]
    },
    {
      "cell_type": "code",
      "source": [
        "s.get_make()"
      ],
      "metadata": {
        "colab": {
          "base_uri": "https://localhost:8080/",
          "height": 35
        },
        "id": "3SF8MphOy215",
        "outputId": "cf4fb4c7-cafd-4ddc-c02c-f14e3de8a69b"
      },
      "execution_count": null,
      "outputs": [
        {
          "output_type": "execute_result",
          "data": {
            "text/plain": [
              "'GMC'"
            ],
            "application/vnd.google.colaboratory.intrinsic+json": {
              "type": "string"
            }
          },
          "metadata": {},
          "execution_count": 6
        }
      ]
    },
    {
      "cell_type": "code",
      "source": [
        "s.activateAWD()"
      ],
      "metadata": {
        "colab": {
          "base_uri": "https://localhost:8080/"
        },
        "id": "RB5iXMIgy5Bx",
        "outputId": "2d6f8a80-84a9-4a64-bee5-0881184ceb1d"
      },
      "execution_count": null,
      "outputs": [
        {
          "output_type": "stream",
          "name": "stdout",
          "text": [
            "AWD activated.\n"
          ]
        }
      ]
    },
    {
      "cell_type": "code",
      "source": [
        "c.activateAWD()"
      ],
      "metadata": {
        "colab": {
          "base_uri": "https://localhost:8080/",
          "height": 144
        },
        "id": "Scx1JfjAzC5-",
        "outputId": "bcac2657-0302-4d27-cbcd-29414966a420"
      },
      "execution_count": 6,
      "outputs": [
        {
          "output_type": "error",
          "ename": "AttributeError",
          "evalue": "'Car' object has no attribute 'activateAWD'",
          "traceback": [
            "\u001b[0;31m---------------------------------------------------------------------------\u001b[0m",
            "\u001b[0;31mAttributeError\u001b[0m                            Traceback (most recent call last)",
            "\u001b[0;32m<ipython-input-6-67e4655da30e>\u001b[0m in \u001b[0;36m<cell line: 0>\u001b[0;34m()\u001b[0m\n\u001b[0;32m----> 1\u001b[0;31m \u001b[0mc\u001b[0m\u001b[0;34m.\u001b[0m\u001b[0mactivateAWD\u001b[0m\u001b[0;34m(\u001b[0m\u001b[0;34m)\u001b[0m\u001b[0;34m\u001b[0m\u001b[0;34m\u001b[0m\u001b[0m\n\u001b[0m",
            "\u001b[0;31mAttributeError\u001b[0m: 'Car' object has no attribute 'activateAWD'"
          ]
        }
      ]
    },
    {
      "cell_type": "code",
      "source": [],
      "metadata": {
        "id": "Ex9tgO439bHr"
      },
      "execution_count": null,
      "outputs": []
    }
  ]
}