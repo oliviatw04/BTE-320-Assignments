{
  "nbformat": 4,
  "nbformat_minor": 0,
  "metadata": {
    "colab": {
      "provenance": [],
      "authorship_tag": "ABX9TyMSjTO4r4Rnj7lGccw0zeQP",
      "include_colab_link": true
    },
    "kernelspec": {
      "name": "python3",
      "display_name": "Python 3"
    },
    "language_info": {
      "name": "python"
    }
  },
  "cells": [
    {
      "cell_type": "markdown",
      "metadata": {
        "id": "view-in-github",
        "colab_type": "text"
      },
      "source": [
        "<a href=\"https://colab.research.google.com/github/oliviatw04/BTE-320-Assignments/blob/main/In_class_assignments.ipynb\" target=\"_parent\"><img src=\"https://colab.research.google.com/assets/colab-badge.svg\" alt=\"Open In Colab\"/></a>"
      ]
    },
    {
      "cell_type": "code",
      "execution_count": null,
      "metadata": {
        "colab": {
          "base_uri": "https://localhost:8080/"
        },
        "id": "1MLMgYTYBKFg",
        "outputId": "bb987f4c-12c4-4d44-fa9f-6af7cf7f0049"
      },
      "outputs": [
        {
          "output_type": "stream",
          "name": "stdout",
          "text": [
            "Please provide the radius: 5\n",
            "Please provide the height: 6\n",
            "Area of a cylinder: 345.4 sq. ft\n"
          ]
        }
      ],
      "source": [
        "pi = 3.14\n",
        "radius = float(input(\"Please provide the radius: \"))\n",
        "height = float(input(\"Please provide the height: \"))\n",
        "\n",
        "area = 2 * pi * radius ** 2 + 2 * pi * radius * height\n",
        "\n",
        "print(f\"Area of a cylinder: {area} sq. ft\")\n"
      ]
    },
    {
      "cell_type": "code",
      "source": [
        "number_1 = input(\"Please enter a number: \")\n",
        "number_2 = input(\"Please enter another number: \")\n",
        "symbol = input(\"Please enter a symbol: \")\n",
        "if symbol == \"+\":\n",
        "    print(int(number_1) + int(number_2))\n",
        "elif symbol == \"-\":\n",
        "    print(int(number_1) - int(number_2))\n",
        "elif symbol == \"*\":\n",
        "    print(int(number_1) * int(number_2))\n",
        "elif symbol == \"/\":\n",
        "    print(int(number_1) / int(number_2))\n",
        "elif symbol == \"//\":\n",
        "    print(int(number_1) % int(number_2))\n",
        "elif symbol == \"**\":\n",
        "    print(int(number_1) ** int(number_2))\n",
        "elif symbol == \"%\":\n",
        "    print(int(number_1) % int(number_2))\n",
        "else: print(\"Invalid Input\")"
      ],
      "metadata": {
        "colab": {
          "base_uri": "https://localhost:8080/"
        },
        "id": "c61kELGTsCau",
        "outputId": "a281a99c-bac2-417c-bef0-7ab1f2160384"
      },
      "execution_count": 2,
      "outputs": [
        {
          "output_type": "stream",
          "name": "stdout",
          "text": [
            "Please enter a number: 6\n",
            "Please enter another number: 6\n",
            "Please enter a symbol: +\n",
            "12\n"
          ]
        }
      ]
    }
  ]
}