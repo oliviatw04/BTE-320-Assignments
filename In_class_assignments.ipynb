{
  "nbformat": 4,
  "nbformat_minor": 0,
  "metadata": {
    "colab": {
      "provenance": [],
      "authorship_tag": "ABX9TyPYu0+SKC8NlkyTuxQ85+VG",
      "include_colab_link": true
    },
    "kernelspec": {
      "name": "python3",
      "display_name": "Python 3"
    },
    "language_info": {
      "name": "python"
    }
  },
  "cells": [
    {
      "cell_type": "markdown",
      "metadata": {
        "id": "view-in-github",
        "colab_type": "text"
      },
      "source": [
        "<a href=\"https://colab.research.google.com/github/oliviatw04/BTE-320-Assignments/blob/main/In_class_assignments.ipynb\" target=\"_parent\"><img src=\"https://colab.research.google.com/assets/colab-badge.svg\" alt=\"Open In Colab\"/></a>"
      ]
    },
    {
      "cell_type": "code",
      "execution_count": null,
      "metadata": {
        "colab": {
          "base_uri": "https://localhost:8080/"
        },
        "id": "1MLMgYTYBKFg",
        "outputId": "bb987f4c-12c4-4d44-fa9f-6af7cf7f0049"
      },
      "outputs": [
        {
          "output_type": "stream",
          "name": "stdout",
          "text": [
            "Please provide the radius: 5\n",
            "Please provide the height: 6\n",
            "Area of a cylinder: 345.4 sq. ft\n"
          ]
        }
      ],
      "source": [
        "pi = 3.14\n",
        "radius = float(input(\"Please provide the radius: \"))\n",
        "height = float(input(\"Please provide the height: \"))\n",
        "\n",
        "area = 2 * pi * radius ** 2 + 2 * pi * radius * height\n",
        "\n",
        "print(f\"Area of a cylinder: {area} sq. ft\")\n"
      ]
    },
    {
      "cell_type": "code",
      "source": [
        "number_1 = input(\"Please enter a number: \")\n",
        "number_2 = input(\"Please enter another number: \")\n",
        "symbol = input(\"Please enter a symbol: \")\n",
        "if symbol == \"+\":\n",
        "    print(int(number_1) + int(number_2))\n",
        "elif symbol == \"-\":\n",
        "    print(int(number_1) - int(number_2))\n",
        "elif symbol == \"*\":\n",
        "    print(int(number_1) * int(number_2))\n",
        "elif symbol == \"/\":\n",
        "    print(int(number_1) / int(number_2))\n",
        "elif symbol == \"//\":\n",
        "    print(int(number_1) % int(number_2))\n",
        "elif symbol == \"**\":\n",
        "    print(int(number_1) ** int(number_2))\n",
        "elif symbol == \"%\":\n",
        "    print(int(number_1) % int(number_2))\n",
        "else: print(\"Invalid Input\")"
      ],
      "metadata": {
        "colab": {
          "base_uri": "https://localhost:8080/"
        },
        "id": "c61kELGTsCau",
        "outputId": "a281a99c-bac2-417c-bef0-7ab1f2160384"
      },
      "execution_count": null,
      "outputs": [
        {
          "output_type": "stream",
          "name": "stdout",
          "text": [
            "Please enter a number: 6\n",
            "Please enter another number: 6\n",
            "Please enter a symbol: +\n",
            "12\n"
          ]
        }
      ]
    },
    {
      "cell_type": "code",
      "source": [
        "for numberHours in range(1,9):\n",
        "  fee = 5 + 2.5 * numberHours\n",
        "  if fee < 10:\n",
        "    fee = 10\n",
        "  elif fee > 20:\n",
        "    fee = 20.0\n",
        "  print(numberHours, fee)"
      ],
      "metadata": {
        "colab": {
          "base_uri": "https://localhost:8080/"
        },
        "id": "lKBjWb7QbZIZ",
        "outputId": "e8dbabbe-7674-4d7a-8746-879d5dfb8fa7"
      },
      "execution_count": null,
      "outputs": [
        {
          "output_type": "stream",
          "name": "stdout",
          "text": [
            "1 10\n",
            "2 10.0\n",
            "3 12.5\n",
            "4 15.0\n",
            "5 17.5\n",
            "6 20.0\n",
            "7 20.0\n",
            "8 20.0\n"
          ]
        }
      ]
    },
    {
      "cell_type": "code",
      "source": [
        "for adMoney in range(0, 201, 25):\n",
        "  revenue = (20 + 2 * round(adMoney ** 0.5)) * 10\n",
        "  cost = 200 + adMoney\n",
        "  profit = revenue - cost\n",
        "  print(adMoney, profit)"
      ],
      "metadata": {
        "colab": {
          "base_uri": "https://localhost:8080/"
        },
        "id": "RL-hT2FudD4l",
        "outputId": "534462f4-7672-4951-b79d-09214a7bb88b"
      },
      "execution_count": null,
      "outputs": [
        {
          "output_type": "stream",
          "name": "stdout",
          "text": [
            "0 0\n",
            "25 75\n",
            "50 90\n",
            "75 105\n",
            "100 100\n",
            "125 95\n",
            "150 90\n",
            "175 85\n",
            "200 80\n"
          ]
        }
      ]
    },
    {
      "cell_type": "code",
      "source": [
        "for adMoney in range(0,201,25):\n",
        "  revenue = (20 + 2 * round((adMoney)** 0.5 ))*10\n",
        "  costs = 200 + adMoney\n",
        "  profit = revenue - costs\n",
        "  print(adMoney, profit)"
      ],
      "metadata": {
        "colab": {
          "base_uri": "https://localhost:8080/"
        },
        "id": "Czh9YckMHWMx",
        "outputId": "18ccb799-a34b-40fb-cf1a-3c4e5eae767d"
      },
      "execution_count": 1,
      "outputs": [
        {
          "output_type": "stream",
          "name": "stdout",
          "text": [
            "0 0\n",
            "25 75\n",
            "50 90\n",
            "75 105\n",
            "100 100\n",
            "125 95\n",
            "150 90\n",
            "175 85\n",
            "200 80\n"
          ]
        }
      ]
    },
    {
      "cell_type": "code",
      "source": [
        "import random\n",
        "\n",
        "play = input(\"Do you want to play a game (yes/no)?\").capitalize()\n",
        "\n",
        "while play == \"Yes\":\n",
        "  p1 = input(\"Player 1 - Choose between rock, paper, or scissors:\").capitalize()\n",
        "  p2 = random.choice([\"rock\", \"paper\", \"scissors\"]).capitalize()\n",
        "\n",
        "  print(f\"Player chose{p1}; Computer chose{p2}\")\n",
        "\n",
        "  if p1 == p2:\n",
        "    print(\"Tie\")\n",
        "  elif (p1 == \"Rock\" and p2 == \"Scissors\") or (p1 == \"Scissors\" and p2 == \"Paper\") or (p1 == \"Paper\" and p2 == \"Rock\"):\n",
        "    print (\"Player wins!\")\n",
        "  else:\n",
        "    print (\"Computer wins!\")\n",
        "\n",
        "  play = input(\"Do you want to play another game (yes/no)?\").capitalize()\n",
        "print (\"Have a good day!\")"
      ],
      "metadata": {
        "colab": {
          "base_uri": "https://localhost:8080/"
        },
        "id": "Ve-yCTjqNHWt",
        "outputId": "f70ee540-896d-4dc2-ec86-49f524b1b09a"
      },
      "execution_count": 21,
      "outputs": [
        {
          "output_type": "stream",
          "name": "stdout",
          "text": [
            "Do you want to play a game (yes/no)?yes\n",
            "Player 1 - Choose between rock, paper, or scissors:rock\n",
            "Player choseRock; Computer chosePaper\n",
            "Computer wins!\n",
            "Do you want to play another game (yes/no)?no\n",
            "Have a good day!\n"
          ]
        }
      ]
    }
  ]
}